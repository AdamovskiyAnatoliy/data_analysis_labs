{
 "cells": [
  {
   "cell_type": "code",
   "execution_count": 1,
   "metadata": {
    "collapsed": true
   },
   "outputs": [],
   "source": [
    "import numpy as np\n",
    "import scipy"
   ]
  },
  {
   "cell_type": "code",
   "execution_count": 73,
   "metadata": {
    "collapsed": true
   },
   "outputs": [],
   "source": [
    "alpha = 0.95\n",
    "g_alpha = 2.22\n",
    "N = 1"
   ]
  },
  {
   "cell_type": "markdown",
   "metadata": {},
   "source": [
    "# Однофакторний аналіз"
   ]
  },
  {
   "cell_type": "code",
   "execution_count": 74,
   "metadata": {
    "collapsed": true
   },
   "outputs": [],
   "source": [
    "A_1 = N + np.random.rand(1000)\n",
    "A_2 = 0.5 * N + np.random.rand(1000)\n",
    "A_3 = 0.8 * N + np.random.rand(1000)\n",
    "A_4 = 1.4 * N + np.random.rand(1000)\n",
    "A_5 = 2 * N + np.random.rand(1000)\n",
    "A = np.matrix([A_1, A_2, A_3, A_4, A_5])"
   ]
  },
  {
   "cell_type": "code",
   "execution_count": 75,
   "metadata": {
    "collapsed": true
   },
   "outputs": [],
   "source": [
    "S_i_2 = A.var(ddof=1, axis=1)"
   ]
  },
  {
   "cell_type": "code",
   "execution_count": 76,
   "metadata": {},
   "outputs": [
    {
     "name": "stdout",
     "output_type": "stream",
     "text": [
      "Дисперсі кожного фактору\n"
     ]
    },
    {
     "data": {
      "text/plain": [
       "matrix([[ 0.07833845],\n",
       "        [ 0.08589232],\n",
       "        [ 0.08381049],\n",
       "        [ 0.08359346],\n",
       "        [ 0.0824428 ]])"
      ]
     },
     "execution_count": 76,
     "metadata": {},
     "output_type": "execute_result"
    }
   ],
   "source": [
    "print('Дисперсі кожного фактору')\n",
    "S_i_2"
   ]
  },
  {
   "cell_type": "markdown",
   "metadata": {},
   "source": [
    "Перевіримо рівність дисперсій за критерієм порівняння"
   ]
  },
  {
   "cell_type": "code",
   "execution_count": 77,
   "metadata": {},
   "outputs": [
    {
     "name": "stdout",
     "output_type": "stream",
     "text": [
      "Нульова гіпотиза про рівність дисперсій не відхиляється\n"
     ]
    }
   ],
   "source": [
    "g = max(S_i_2) / sum(S_i_2)\n",
    "if g > g_alpha:\n",
    "    print(\"Нульова гіпотtза про рівність дисперсій відхиляється\")\n",
    "else:\n",
    "    print(\"Нульова гіпотиза про рівність дисперсій не відхиляється\")"
   ]
  },
  {
   "cell_type": "code",
   "execution_count": 78,
   "metadata": {},
   "outputs": [
    {
     "name": "stdout",
     "output_type": "stream",
     "text": [
      "Оцінка дисперсій\n"
     ]
    },
    {
     "data": {
      "text/plain": [
       "0.0068584077105918392"
      ]
     },
     "execution_count": 78,
     "metadata": {},
     "output_type": "execute_result"
    }
   ],
   "source": [
    "S_0_2 = (S_i_2.sum() / (A.shape[0]**2 * (A.shape[1] - 1))) * ((np.array(A - A.mean(axis=1))**2).sum())\n",
    "print('Оцінка дисперсій')\n",
    "S_0_2"
   ]
  },
  {
   "cell_type": "code",
   "execution_count": 86,
   "metadata": {},
   "outputs": [
    {
     "name": "stdout",
     "output_type": "stream",
     "text": [
      "Вибіркова дисперсія усіх спостережень\n"
     ]
    },
    {
     "data": {
      "text/plain": [
       "0.35488876352097731"
      ]
     },
     "execution_count": 86,
     "metadata": {},
     "output_type": "execute_result"
    }
   ],
   "source": [
    "S_2 = ((np.array(A)**2).sum() - ((A.sum()**2) / (A.shape[0] * A.shape[1]))) / (A.shape[0] * A.shape[1] - 1)\n",
    "print('Вибіркова дисперсія усіх спостережень')\n",
    "S_2"
   ]
  },
  {
   "cell_type": "code",
   "execution_count": 92,
   "metadata": {},
   "outputs": [
    {
     "name": "stdout",
     "output_type": "stream",
     "text": [
      "Оцінку дисперсії, що характеризує зміни параметра, пов'язані з фактором\n"
     ]
    },
    {
     "data": {
      "text/plain": [
       "340.10637153140135"
      ]
     },
     "execution_count": 92,
     "metadata": {},
     "output_type": "execute_result"
    }
   ],
   "source": [
    "x_ = np.array(A.sum(axis=1) / A.shape[1])\n",
    "x__ = x_.sum() / A.shape[0]\n",
    "x_, x__\n",
    "S_A_2 = (A.shape[1] / (A.shape[0] - 1)) * ((x_ - x__)**2).sum()\n",
    "print('Оцінку дисперсії, що характеризує зміни параметра, пов\\'язані з фактором')\n",
    "S_A_2"
   ]
  },
  {
   "cell_type": "code",
   "execution_count": 116,
   "metadata": {},
   "outputs": [
    {
     "name": "stdout",
     "output_type": "stream",
     "text": [
      "Вплив значущий з ймовірністю 1-α\n"
     ]
    }
   ],
   "source": [
    "p_value = scipy.stats.f.cdf(S_A_2 / S_0_2, A.shape[0]-1, A.shape[0]*(A.shape[1]-1))\n",
    "if p_value > (1-alpha):\n",
    "    print('Вплив значущий з ймовірністю 1-α')\n",
    "else:\n",
    "    print('Вплив не значущий з ймовірністю 1-α')"
   ]
  },
  {
   "cell_type": "markdown",
   "metadata": {},
   "source": [
    "# Двофакторний Аналіз"
   ]
  },
  {
   "cell_type": "code",
   "execution_count": 181,
   "metadata": {},
   "outputs": [],
   "source": [
    "A_1_B_1 = N + np.random.rand(100)\n",
    "A_1_B_2 = N + np.random.rand(100)\n",
    "A_1_B_3 = N + np.random.rand(100)\n",
    "A_1_B_4 = N + np.random.rand(100)\n",
    "\n",
    "A_2_B_1 = 3.5 * N + np.random.rand(100)\n",
    "A_2_B_2 = 2.5 * N + np.random.rand(100)\n",
    "A_2_B_3 = 1.5 * N + np.random.rand(100)\n",
    "A_2_B_4 = 0.5 * N + np.random.rand(100)\n",
    "\n",
    "A_3_B_1 = 3.8 * N + np.random.rand(100)\n",
    "A_3_B_2 = 2.8 * N + np.random.rand(100)\n",
    "A_3_B_3 = 1.8 * N + np.random.rand(100)\n",
    "A_3_B_4 = 0.8 * N + np.random.rand(100)\n",
    "\n",
    "A_4_B_1 = 1.4 * N + np.random.rand(100)\n",
    "A_4_B_2 = 2.4 * N + np.random.rand(100)\n",
    "A_4_B_3 = 3.4 * N + np.random.rand(100)\n",
    "A_4_B_4 = 4.4 * N + np.random.rand(100)\n",
    "\n",
    "A_5_B_1 = 2.0 * N + np.random.rand(100)\n",
    "A_5_B_2 = 3.0 * N + np.random.rand(100)\n",
    "A_5_B_3 = 4.0 * N + np.random.rand(100)\n",
    "A_5_B_4 = 5.0 * N + np.random.rand(100)\n",
    "\n",
    "A = np.array([\n",
    "    [A_1_B_1, A_2_B_1, A_3_B_1, A_4_B_1, A_5_B_1],\n",
    "    [A_1_B_2, A_2_B_2, A_3_B_2, A_4_B_2, A_5_B_2],\n",
    "    [A_1_B_3, A_2_B_3, A_3_B_3, A_4_B_3, A_5_B_3],\n",
    "    [A_1_B_4, A_2_B_4, A_3_B_4, A_4_B_4, A_5_B_4]\n",
    "])"
   ]
  },
  {
   "cell_type": "code",
   "execution_count": 182,
   "metadata": {},
   "outputs": [
    {
     "name": "stdout",
     "output_type": "stream",
     "text": [
      "Середнє значення в кожній клітинці\n"
     ]
    },
    {
     "data": {
      "text/plain": [
       "array([[ 1.50692524,  3.97194521,  4.32760679,  1.91842745,  2.4748259 ],\n",
       "       [ 1.50134794,  3.02347355,  3.26276547,  2.89145496,  3.49327251],\n",
       "       [ 1.53250927,  2.01207572,  2.32002174,  3.9291247 ,  4.46332532],\n",
       "       [ 1.5018259 ,  1.01850878,  1.29400897,  4.91455116,  5.52928954]])"
      ]
     },
     "execution_count": 182,
     "metadata": {},
     "output_type": "execute_result"
    }
   ],
   "source": [
    "A_mean = A.mean(axis=2)\n",
    "print(\"Середнє значення в кожній клітинці\")\n",
    "A_mean"
   ]
  },
  {
   "cell_type": "code",
   "execution_count": 183,
   "metadata": {},
   "outputs": [
    {
     "name": "stdout",
     "output_type": "stream",
     "text": [
      "\n",
      "Q_1: 196.0170056568055\n",
      "Q_2: 175.93413128508828\n",
      "Q_3: 161.8092667951423\n",
      "Q_4: 161.8081662476626\n",
      "\n"
     ]
    }
   ],
   "source": [
    "Q_1 = (A_mean**2).sum()\n",
    "Q_2 = (A_mean.sum(axis=0)**2).sum() / A_mean.shape[0]\n",
    "Q_3 = (A_mean.sum(axis=1)**2).sum() / A_mean.shape[1]\n",
    "Q_4 = (A_mean.sum())**2 / (A_mean.shape[0] * A_mean.shape[1])\n",
    "print(\"\"\"\n",
    "Q_1: {}\n",
    "Q_2: {}\n",
    "Q_3: {}\n",
    "Q_4: {}\n",
    "\"\"\".format(Q_1, Q_2, Q_3, Q_4))"
   ]
  },
  {
   "cell_type": "code",
   "execution_count": 184,
   "metadata": {},
   "outputs": [
    {
     "name": "stdout",
     "output_type": "stream",
     "text": [
      "\n",
      "S_2_0: 1.673481152019794\n",
      "S_2_A: 4.708655012475229\n",
      "S_2_B: 0.0002751368699236423\n",
      "\n"
     ]
    }
   ],
   "source": [
    "S_0_2 = (Q_1 + Q_4 - Q_2 - Q_3) / ((A_mean.shape[0] - 1) * (A_mean.shape[1] - 1))\n",
    "S_A_2 = (Q_2 - Q_4) / (A_mean.shape[0] - 1)\n",
    "S_B_2 = (Q_3 - Q_4) / (A_mean.shape[1] - 1)\n",
    "print(\"\"\"\n",
    "S_2_0: {}\n",
    "S_2_A: {}\n",
    "S_2_B: {}\n",
    "\"\"\".format(S_0_2, S_A_2, S_B_2))"
   ]
  },
  {
   "cell_type": "code",
   "execution_count": 185,
   "metadata": {},
   "outputs": [
    {
     "name": "stdout",
     "output_type": "stream",
     "text": [
      "Вплив A значущий з ймовірністю 1-α\n",
      "Вплив B не значущий з ймовірністю 1-α\n"
     ]
    }
   ],
   "source": [
    "p_value_a = scipy.stats.f.cdf(S_A_2 / S_0_2, A_mean.shape[0]-1, (A.shape[0]-1)*(A.shape[1]-1))\n",
    "p_value_b = scipy.stats.f.cdf(S_B_2 / S_0_2, A_mean.shape[1]-1, (A.shape[1]-1)*(A.shape[0]-1))\n",
    "\n",
    "if p_value_a > (1-alpha):\n",
    "    print('Вплив A значущий з ймовірністю 1-α')\n",
    "else:\n",
    "    print('Вплив A не значущий з ймовірністю 1-α')\n",
    "\n",
    "if p_value_b > (1-alpha):\n",
    "    print('Вплив B значущий з ймовірністю 1-α')\n",
    "else:\n",
    "    print('Вплив B не значущий з ймовірністю 1-α')"
   ]
  },
  {
   "cell_type": "code",
   "execution_count": 189,
   "metadata": {},
   "outputs": [
    {
     "name": "stdout",
     "output_type": "stream",
     "text": [
      "Q_5: 19763.033294662648\n"
     ]
    }
   ],
   "source": [
    "Q_5 = (A**2).sum()\n",
    "print('Q_5: {}'.format(Q_5))"
   ]
  },
  {
   "cell_type": "code",
   "execution_count": 190,
   "metadata": {},
   "outputs": [
    {
     "name": "stdout",
     "output_type": "stream",
     "text": [
      "S_2_AB: 0.08148117625358355\n"
     ]
    }
   ],
   "source": [
    "S_2_AB = (Q_5 - A.shape[2] * Q_1) / (A.shape[0]*A.shape[1]*(A.shape[2]-1))\n",
    "print('S_2_AB: {}'.format(S_2_AB))"
   ]
  },
  {
   "cell_type": "code",
   "execution_count": 196,
   "metadata": {},
   "outputs": [
    {
     "name": "stdout",
     "output_type": "stream",
     "text": [
      "Вплив AB значущий з ймовірністю 1-α\n"
     ]
    }
   ],
   "source": [
    "p_value_ab = scipy.stats.f.cdf(A.shape[2]*S_0_2 / S_2_AB, (A.shape[0]-1)*(A.shape[1]-1), A.shape[0]*A.shape[1]*(A.shape[2]-1))\n",
    "if p_value_ab > (1-alpha):\n",
    "    print('Вплив AB значущий з ймовірністю 1-α')\n",
    "else:\n",
    "    print('Вплив AB не значущий з ймовірністю 1-α')"
   ]
  },
  {
   "cell_type": "code",
   "execution_count": null,
   "metadata": {
    "collapsed": true
   },
   "outputs": [],
   "source": []
  }
 ],
 "metadata": {
  "kernelspec": {
   "display_name": "Python 3",
   "language": "python",
   "name": "python3"
  },
  "language_info": {
   "codemirror_mode": {
    "name": "ipython",
    "version": 3
   },
   "file_extension": ".py",
   "mimetype": "text/x-python",
   "name": "python",
   "nbconvert_exporter": "python",
   "pygments_lexer": "ipython3",
   "version": "3.6.3"
  }
 },
 "nbformat": 4,
 "nbformat_minor": 2
}
