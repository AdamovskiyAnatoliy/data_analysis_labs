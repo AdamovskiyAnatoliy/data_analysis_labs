{
 "cells": [
  {
   "cell_type": "code",
   "execution_count": 197,
   "metadata": {
    "collapsed": true
   },
   "outputs": [],
   "source": [
    "import numpy as np\n",
    "import scipy"
   ]
  },
  {
   "cell_type": "code",
   "execution_count": 198,
   "metadata": {
    "collapsed": true
   },
   "outputs": [],
   "source": [
    "alpha = 0.95\n",
    "g_alpha = 2.22\n",
    "N = 1"
   ]
  },
  {
   "cell_type": "markdown",
   "metadata": {},
   "source": [
    "# Однофакторний аналіз"
   ]
  },
  {
   "cell_type": "code",
   "execution_count": 199,
   "metadata": {
    "collapsed": true
   },
   "outputs": [],
   "source": [
    "A_1 = N + np.random.rand(1000)\n",
    "A_2 = 0.5 * N + np.random.rand(1000)\n",
    "A_3 = 0.8 * N + np.random.rand(1000)\n",
    "A_4 = 1.4 * N + np.random.rand(1000)\n",
    "A_5 = 2 * N + np.random.rand(1000)\n",
    "A = np.matrix([A_1, A_2, A_3, A_4, A_5])"
   ]
  },
  {
   "cell_type": "code",
   "execution_count": 200,
   "metadata": {
    "collapsed": true
   },
   "outputs": [],
   "source": [
    "S_i_2 = A.var(ddof=1, axis=1)"
   ]
  },
  {
   "cell_type": "code",
   "execution_count": 201,
   "metadata": {},
   "outputs": [
    {
     "name": "stdout",
     "output_type": "stream",
     "text": [
      "Дисперсі кожного фактору\n"
     ]
    },
    {
     "data": {
      "text/plain": [
       "matrix([[ 0.08390815],\n",
       "        [ 0.08399607],\n",
       "        [ 0.08313875],\n",
       "        [ 0.08096557],\n",
       "        [ 0.08033957]])"
      ]
     },
     "execution_count": 201,
     "metadata": {},
     "output_type": "execute_result"
    }
   ],
   "source": [
    "print('Дисперсі кожного фактору')\n",
    "S_i_2"
   ]
  },
  {
   "cell_type": "markdown",
   "metadata": {},
   "source": [
    "Перевіримо рівність дисперсій за критерієм порівняння"
   ]
  },
  {
   "cell_type": "code",
   "execution_count": 202,
   "metadata": {},
   "outputs": [
    {
     "name": "stdout",
     "output_type": "stream",
     "text": [
      "Нульова гіпотиза про рівність дисперсій не відхиляється\n"
     ]
    }
   ],
   "source": [
    "g = max(S_i_2) / sum(S_i_2)\n",
    "if g > g_alpha:\n",
    "    print(\"Нульова гіпотtза про рівність дисперсій відхиляється\")\n",
    "else:\n",
    "    print(\"Нульова гіпотиза про рівність дисперсій не відхиляється\")"
   ]
  },
  {
   "cell_type": "code",
   "execution_count": 203,
   "metadata": {},
   "outputs": [
    {
     "name": "stdout",
     "output_type": "stream",
     "text": [
      "Оцінка дисперсій\n"
     ]
    },
    {
     "data": {
      "text/plain": [
       "0.0068012384949959715"
      ]
     },
     "execution_count": 203,
     "metadata": {},
     "output_type": "execute_result"
    }
   ],
   "source": [
    "S_0_2 = (S_i_2.sum() / (A.shape[0]**2 * (A.shape[1] - 1))) * ((np.array(A - A.mean(axis=1))**2).sum())\n",
    "print('Оцінка дисперсій')\n",
    "S_0_2"
   ]
  },
  {
   "cell_type": "code",
   "execution_count": 204,
   "metadata": {},
   "outputs": [
    {
     "name": "stdout",
     "output_type": "stream",
     "text": [
      "Вибіркова дисперсія усіх спостережень\n"
     ]
    },
    {
     "data": {
      "text/plain": [
       "0.36151631745921536"
      ]
     },
     "execution_count": 204,
     "metadata": {},
     "output_type": "execute_result"
    }
   ],
   "source": [
    "S_2 = ((np.array(A)**2).sum() - ((A.sum()**2) / (A.shape[0] * A.shape[1]))) / (A.shape[0] * A.shape[1] - 1)\n",
    "print('Вибіркова дисперсія усіх спостережень')\n",
    "S_2"
   ]
  },
  {
   "cell_type": "code",
   "execution_count": 205,
   "metadata": {},
   "outputs": [
    {
     "name": "stdout",
     "output_type": "stream",
     "text": [
      "Оцінку дисперсії, що характеризує зміни параметра, пов'язані з фактором\n"
     ]
    },
    {
     "data": {
      "text/plain": [
       "348.82107770996095"
      ]
     },
     "execution_count": 205,
     "metadata": {},
     "output_type": "execute_result"
    }
   ],
   "source": [
    "x_ = np.array(A.sum(axis=1) / A.shape[1])\n",
    "x__ = x_.sum() / A.shape[0]\n",
    "x_, x__\n",
    "S_A_2 = (A.shape[1] / (A.shape[0] - 1)) * ((x_ - x__)**2).sum()\n",
    "print('Оцінку дисперсії, що характеризує зміни параметра, пов\\'язані з фактором')\n",
    "S_A_2"
   ]
  },
  {
   "cell_type": "code",
   "execution_count": 206,
   "metadata": {},
   "outputs": [
    {
     "name": "stdout",
     "output_type": "stream",
     "text": [
      "Вплив значущий з ймовірністю 1-α\n"
     ]
    }
   ],
   "source": [
    "p_value = scipy.stats.f.cdf(S_A_2 / S_0_2, A.shape[0]-1, A.shape[0]*(A.shape[1]-1))\n",
    "if p_value > (1-alpha):\n",
    "    print('Вплив значущий з ймовірністю 1-α')\n",
    "else:\n",
    "    print('Вплив не значущий з ймовірністю 1-α')"
   ]
  },
  {
   "cell_type": "markdown",
   "metadata": {},
   "source": [
    "# Двофакторний Аналіз"
   ]
  },
  {
   "cell_type": "code",
   "execution_count": 207,
   "metadata": {
    "collapsed": true
   },
   "outputs": [],
   "source": [
    "A_1_B_1 = N + np.random.rand(100)\n",
    "A_1_B_2 = N + np.random.rand(100)\n",
    "A_1_B_3 = N + np.random.rand(100)\n",
    "A_1_B_4 = N + np.random.rand(100)\n",
    "\n",
    "A_2_B_1 = 3.5 * N + np.random.rand(100)\n",
    "A_2_B_2 = 2.5 * N + np.random.rand(100)\n",
    "A_2_B_3 = 1.5 * N + np.random.rand(100)\n",
    "A_2_B_4 = 0.5 * N + np.random.rand(100)\n",
    "\n",
    "A_3_B_1 = 3.8 * N + np.random.rand(100)\n",
    "A_3_B_2 = 2.8 * N + np.random.rand(100)\n",
    "A_3_B_3 = 1.8 * N + np.random.rand(100)\n",
    "A_3_B_4 = 0.8 * N + np.random.rand(100)\n",
    "\n",
    "A_4_B_1 = 1.4 * N + np.random.rand(100)\n",
    "A_4_B_2 = 2.4 * N + np.random.rand(100)\n",
    "A_4_B_3 = 3.4 * N + np.random.rand(100)\n",
    "A_4_B_4 = 4.4 * N + np.random.rand(100)\n",
    "\n",
    "A_5_B_1 = 2.0 * N + np.random.rand(100)\n",
    "A_5_B_2 = 3.0 * N + np.random.rand(100)\n",
    "A_5_B_3 = 4.0 * N + np.random.rand(100)\n",
    "A_5_B_4 = 5.0 * N + np.random.rand(100)\n",
    "\n",
    "A = np.array([\n",
    "    [A_1_B_1, A_2_B_1, A_3_B_1, A_4_B_1, A_5_B_1],\n",
    "    [A_1_B_2, A_2_B_2, A_3_B_2, A_4_B_2, A_5_B_2],\n",
    "    [A_1_B_3, A_2_B_3, A_3_B_3, A_4_B_3, A_5_B_3],\n",
    "    [A_1_B_4, A_2_B_4, A_3_B_4, A_4_B_4, A_5_B_4]\n",
    "])"
   ]
  },
  {
   "cell_type": "code",
   "execution_count": 208,
   "metadata": {},
   "outputs": [
    {
     "name": "stdout",
     "output_type": "stream",
     "text": [
      "Середнє значення в кожній клітинці\n"
     ]
    },
    {
     "data": {
      "text/plain": [
       "array([[ 1.52606175,  3.98954573,  4.33452575,  1.85633793,  2.45605569],\n",
       "       [ 1.47626669,  3.01872725,  3.27558151,  2.91093584,  3.46017249],\n",
       "       [ 1.48128536,  2.00102986,  2.22059411,  3.89572548,  4.515642  ],\n",
       "       [ 1.46241014,  0.9818886 ,  1.33105107,  4.86872642,  5.46751748]])"
      ]
     },
     "execution_count": 208,
     "metadata": {},
     "output_type": "execute_result"
    }
   ],
   "source": [
    "A_mean = A.mean(axis=2)\n",
    "print(\"Середнє значення в кожній клітинці\")\n",
    "A_mean"
   ]
  },
  {
   "cell_type": "code",
   "execution_count": 209,
   "metadata": {},
   "outputs": [
    {
     "name": "stdout",
     "output_type": "stream",
     "text": [
      "\n",
      "Q_1: 194.14926068578515\n",
      "Q_2: 173.9154881023596\n",
      "Q_3: 159.78285478627282\n",
      "Q_4: 159.78250376428676\n",
      "\n"
     ]
    }
   ],
   "source": [
    "Q_1 = (A_mean**2).sum()\n",
    "Q_2 = (A_mean.sum(axis=0)**2).sum() / A_mean.shape[0]\n",
    "Q_3 = (A_mean.sum(axis=1)**2).sum() / A_mean.shape[1]\n",
    "Q_4 = (A_mean.sum())**2 / (A_mean.shape[0] * A_mean.shape[1])\n",
    "print(\"\"\"\n",
    "Q_1: {}\n",
    "Q_2: {}\n",
    "Q_3: {}\n",
    "Q_4: {}\n",
    "\"\"\".format(Q_1, Q_2, Q_3, Q_4))"
   ]
  },
  {
   "cell_type": "code",
   "execution_count": 210,
   "metadata": {},
   "outputs": [
    {
     "name": "stdout",
     "output_type": "stream",
     "text": [
      "\n",
      "S_2_0: 1.6861184634532904\n",
      "S_2_A: 4.710994779357615\n",
      "S_2_B: 8.77554965157401e-05\n",
      "\n"
     ]
    }
   ],
   "source": [
    "S_0_2 = (Q_1 + Q_4 - Q_2 - Q_3) / ((A_mean.shape[0] - 1) * (A_mean.shape[1] - 1))\n",
    "S_A_2 = (Q_2 - Q_4) / (A_mean.shape[0] - 1)\n",
    "S_B_2 = (Q_3 - Q_4) / (A_mean.shape[1] - 1)\n",
    "print(\"\"\"\n",
    "S_2_0: {}\n",
    "S_2_A: {}\n",
    "S_2_B: {}\n",
    "\"\"\".format(S_0_2, S_A_2, S_B_2))"
   ]
  },
  {
   "cell_type": "code",
   "execution_count": 211,
   "metadata": {},
   "outputs": [
    {
     "name": "stdout",
     "output_type": "stream",
     "text": [
      "Вплив A значущий з ймовірністю 1-α\n",
      "Вплив B не значущий з ймовірністю 1-α\n"
     ]
    }
   ],
   "source": [
    "p_value_a = scipy.stats.f.cdf(S_A_2 / S_0_2, A_mean.shape[0]-1, (A.shape[0]-1)*(A.shape[1]-1))\n",
    "p_value_b = scipy.stats.f.cdf(S_B_2 / S_0_2, A_mean.shape[1]-1, (A.shape[1]-1)*(A.shape[0]-1))\n",
    "\n",
    "if p_value_a > (1-alpha):\n",
    "    print('Вплив A значущий з ймовірністю 1-α')\n",
    "else:\n",
    "    print('Вплив A не значущий з ймовірністю 1-α')\n",
    "\n",
    "if p_value_b > (1-alpha):\n",
    "    print('Вплив B значущий з ймовірністю 1-α')\n",
    "else:\n",
    "    print('Вплив B не значущий з ймовірністю 1-α')"
   ]
  },
  {
   "cell_type": "code",
   "execution_count": 212,
   "metadata": {},
   "outputs": [
    {
     "name": "stdout",
     "output_type": "stream",
     "text": [
      "Q_5: 19574.059976082677\n"
     ]
    }
   ],
   "source": [
    "Q_5 = (A**2).sum()\n",
    "print('Q_5: {}'.format(Q_5))"
   ]
  },
  {
   "cell_type": "code",
   "execution_count": 213,
   "metadata": {},
   "outputs": [
    {
     "name": "stdout",
     "output_type": "stream",
     "text": [
      "S_2_AB: 0.0803706603556371\n"
     ]
    }
   ],
   "source": [
    "S_2_AB = (Q_5 - A.shape[2] * Q_1) / (A.shape[0]*A.shape[1]*(A.shape[2]-1))\n",
    "print('S_2_AB: {}'.format(S_2_AB))"
   ]
  },
  {
   "cell_type": "code",
   "execution_count": 214,
   "metadata": {},
   "outputs": [
    {
     "name": "stdout",
     "output_type": "stream",
     "text": [
      "Вплив AB значущий з ймовірністю 1-α\n"
     ]
    }
   ],
   "source": [
    "p_value_ab = scipy.stats.f.cdf(A.shape[2]*S_0_2 / S_2_AB, (A.shape[0]-1)*(A.shape[1]-1), A.shape[0]*A.shape[1]*(A.shape[2]-1))\n",
    "if p_value_ab > (1-alpha):\n",
    "    print('Вплив AB значущий з ймовірністю 1-α')\n",
    "else:\n",
    "    print('Вплив AB не значущий з ймовірністю 1-α')"
   ]
  },
  {
   "cell_type": "code",
   "execution_count": null,
   "metadata": {
    "collapsed": true
   },
   "outputs": [],
   "source": []
  },
  {
   "cell_type": "code",
   "execution_count": null,
   "metadata": {
    "collapsed": true
   },
   "outputs": [],
   "source": []
  }
 ],
 "metadata": {
  "kernelspec": {
   "display_name": "Python 3",
   "language": "python",
   "name": "python3"
  },
  "language_info": {
   "codemirror_mode": {
    "name": "ipython",
    "version": 3
   },
   "file_extension": ".py",
   "mimetype": "text/x-python",
   "name": "python",
   "nbconvert_exporter": "python",
   "pygments_lexer": "ipython3",
   "version": "3.6.3"
  }
 },
 "nbformat": 4,
 "nbformat_minor": 2
}
